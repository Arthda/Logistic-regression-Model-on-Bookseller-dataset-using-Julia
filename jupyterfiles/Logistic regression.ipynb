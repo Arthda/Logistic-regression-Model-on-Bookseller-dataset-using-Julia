{
 "cells": [
  {
   "cell_type": "code",
   "execution_count": 1,
   "id": "5db1fd84",
   "metadata": {
    "scrolled": true
   },
   "outputs": [
    {
     "name": "stderr",
     "output_type": "stream",
     "text": [
      "\u001b[32m\u001b[1m    Updating\u001b[22m\u001b[39m registry at `C:\\Users\\ardwived\\.julia\\registries\\General`\n",
      "\u001b[32m\u001b[1m    Updating\u001b[22m\u001b[39m git-repo `https://github.com/JuliaRegistries/General.git`\n",
      "\u001b[32m\u001b[1m   Resolving\u001b[22m\u001b[39m package versions...\n",
      "\u001b[32m\u001b[1m  No Changes\u001b[22m\u001b[39m to `C:\\Users\\ardwived\\.julia\\environments\\v1.6\\Project.toml`\n",
      "\u001b[32m\u001b[1m  No Changes\u001b[22m\u001b[39m to `C:\\Users\\ardwived\\.julia\\environments\\v1.6\\Manifest.toml`\n",
      "\u001b[32m\u001b[1m   Resolving\u001b[22m\u001b[39m package versions...\n",
      "\u001b[32m\u001b[1m  No Changes\u001b[22m\u001b[39m to `C:\\Users\\ardwived\\.julia\\environments\\v1.6\\Project.toml`\n",
      "\u001b[32m\u001b[1m  No Changes\u001b[22m\u001b[39m to `C:\\Users\\ardwived\\.julia\\environments\\v1.6\\Manifest.toml`\n",
      "\u001b[32m\u001b[1m   Resolving\u001b[22m\u001b[39m package versions...\n",
      "\u001b[32m\u001b[1m  No Changes\u001b[22m\u001b[39m to `C:\\Users\\ardwived\\.julia\\environments\\v1.6\\Project.toml`\n",
      "\u001b[32m\u001b[1m  No Changes\u001b[22m\u001b[39m to `C:\\Users\\ardwived\\.julia\\environments\\v1.6\\Manifest.toml`\n",
      "\u001b[32m\u001b[1m   Resolving\u001b[22m\u001b[39m package versions...\n",
      "\u001b[32m\u001b[1m  No Changes\u001b[22m\u001b[39m to `C:\\Users\\ardwived\\.julia\\environments\\v1.6\\Project.toml`\n",
      "\u001b[32m\u001b[1m  No Changes\u001b[22m\u001b[39m to `C:\\Users\\ardwived\\.julia\\environments\\v1.6\\Manifest.toml`\n",
      "\u001b[32m\u001b[1m   Resolving\u001b[22m\u001b[39m package versions...\n",
      "\u001b[32m\u001b[1m  No Changes\u001b[22m\u001b[39m to `C:\\Users\\ardwived\\.julia\\environments\\v1.6\\Project.toml`\n",
      "\u001b[32m\u001b[1m  No Changes\u001b[22m\u001b[39m to `C:\\Users\\ardwived\\.julia\\environments\\v1.6\\Manifest.toml`\n",
      "\u001b[32m\u001b[1m   Resolving\u001b[22m\u001b[39m package versions...\n",
      "\u001b[32m\u001b[1m  No Changes\u001b[22m\u001b[39m to `C:\\Users\\ardwived\\.julia\\environments\\v1.6\\Project.toml`\n",
      "\u001b[32m\u001b[1m  No Changes\u001b[22m\u001b[39m to `C:\\Users\\ardwived\\.julia\\environments\\v1.6\\Manifest.toml`\n",
      "\u001b[32m\u001b[1m   Resolving\u001b[22m\u001b[39m package versions...\n",
      "\u001b[32m\u001b[1m  No Changes\u001b[22m\u001b[39m to `C:\\Users\\ardwived\\.julia\\environments\\v1.6\\Project.toml`\n",
      "\u001b[32m\u001b[1m  No Changes\u001b[22m\u001b[39m to `C:\\Users\\ardwived\\.julia\\environments\\v1.6\\Manifest.toml`\n",
      "\u001b[32m\u001b[1m   Resolving\u001b[22m\u001b[39m package versions...\n",
      "\u001b[32m\u001b[1m  No Changes\u001b[22m\u001b[39m to `C:\\Users\\ardwived\\.julia\\environments\\v1.6\\Project.toml`\n",
      "\u001b[32m\u001b[1m  No Changes\u001b[22m\u001b[39m to `C:\\Users\\ardwived\\.julia\\environments\\v1.6\\Manifest.toml`\n",
      "\u001b[32m\u001b[1m   Resolving\u001b[22m\u001b[39m package versions...\n",
      "\u001b[32m\u001b[1m  No Changes\u001b[22m\u001b[39m to `C:\\Users\\ardwived\\.julia\\environments\\v1.6\\Project.toml`\n",
      "\u001b[32m\u001b[1m  No Changes\u001b[22m\u001b[39m to `C:\\Users\\ardwived\\.julia\\environments\\v1.6\\Manifest.toml`\n",
      "\u001b[32m\u001b[1m   Resolving\u001b[22m\u001b[39m package versions...\n",
      "\u001b[32m\u001b[1m  No Changes\u001b[22m\u001b[39m to `C:\\Users\\ardwived\\.julia\\environments\\v1.6\\Project.toml`\n",
      "\u001b[32m\u001b[1m  No Changes\u001b[22m\u001b[39m to `C:\\Users\\ardwived\\.julia\\environments\\v1.6\\Manifest.toml`\n",
      "\u001b[32m\u001b[1m   Resolving\u001b[22m\u001b[39m package versions...\n",
      "\u001b[32m\u001b[1m  No Changes\u001b[22m\u001b[39m to `C:\\Users\\ardwived\\.julia\\environments\\v1.6\\Project.toml`\n",
      "\u001b[32m\u001b[1m  No Changes\u001b[22m\u001b[39m to `C:\\Users\\ardwived\\.julia\\environments\\v1.6\\Manifest.toml`\n",
      "\u001b[32m\u001b[1m   Resolving\u001b[22m\u001b[39m package versions...\n",
      "\u001b[32m\u001b[1m  No Changes\u001b[22m\u001b[39m to `C:\\Users\\ardwived\\.julia\\environments\\v1.6\\Project.toml`\n",
      "\u001b[32m\u001b[1m  No Changes\u001b[22m\u001b[39m to `C:\\Users\\ardwived\\.julia\\environments\\v1.6\\Manifest.toml`\n"
     ]
    }
   ],
   "source": [
    "import Pkg;\n",
    "Pkg.add(\"DataFrames\")\n",
    "Pkg.add(\"CSV\")\n",
    "Pkg.add(\"Plots\")\n",
    "Pkg.add(\"Lathe\")\n",
    "Pkg.add(\"GLM\")\n",
    "Pkg.add(\"StatsPlots\")\n",
    "Pkg.add(\"MLBase\")\n",
    "Pkg.add(\"Missings\")\n",
    "Pkg.add(\"Statistics\")\n",
    "Pkg.add(\"ClassImbalance\")\n",
    "Pkg.add(\"ROCAnalysis\")\n",
    "Pkg.add(\"FreqTables\")"
   ]
  },
  {
   "cell_type": "code",
   "execution_count": 2,
   "id": "f262a0a5",
   "metadata": {},
   "outputs": [],
   "source": [
    "using Pkg\n",
    "using DataFrames\n",
    "using CSV\n",
    "using GLM\n",
    "using Lathe\n",
    "using MLBase\n",
    "using ClassImbalance\n",
    "using ROCAnalysis"
   ]
  },
  {
   "cell_type": "code",
   "execution_count": 3,
   "id": "aa1d7331",
   "metadata": {},
   "outputs": [
    {
     "data": {
      "text/html": [
       "<table class=\"data-frame\"><thead><tr><th></th><th>Name</th><th>Author</th><th>User_Rating</th><th>Reviews</th><th>Price</th><th>Year</th><th>Genre</th></tr><tr><th></th><th>String</th><th>String</th><th>Float64</th><th>Int64</th><th>Int64</th><th>Int64</th><th>String</th></tr></thead><tbody><p>1 rows × 7 columns</p><tr><th>1</th><td>10-Day Green Smoothie Cleanse</td><td>JJ Smith</td><td>4.7</td><td>17350</td><td>8</td><td>2016</td><td>non_fiction</td></tr></tbody></table>"
      ],
      "text/latex": [
       "\\begin{tabular}{r|ccccccc}\n",
       "\t& Name & Author & User\\_Rating & Reviews & Price & Year & Genre\\\\\n",
       "\t\\hline\n",
       "\t& String & String & Float64 & Int64 & Int64 & Int64 & String\\\\\n",
       "\t\\hline\n",
       "\t1 & 10-Day Green Smoothie Cleanse & JJ Smith & 4.7 & 17350 & 8 & 2016 & non\\_fiction \\\\\n",
       "\\end{tabular}\n"
      ],
      "text/plain": [
       "1×7 typename(DataFrame). Omitted printing of 3 columns\n",
       "│ Row │ Name                          │ Author   │ User_Rating │ Reviews │\n",
       "│     │ \u001b[90mString\u001b[39m                        │ \u001b[90mString\u001b[39m   │ \u001b[90mFloat64\u001b[39m     │ \u001b[90mInt64\u001b[39m   │\n",
       "├─────┼───────────────────────────────┼──────────┼─────────────┼─────────┤\n",
       "│ 1   │ 10-Day Green Smoothie Cleanse │ JJ Smith │ 4.7         │ 17350   │"
      ]
     },
     "execution_count": 3,
     "metadata": {},
     "output_type": "execute_result"
    }
   ],
   "source": [
    "using CSV,DataFrames\n",
    "df = CSV.read(\"C:\\\\Users\\\\ardwived\\\\Downloads\\\\bestsellers.csv\",DataFrame)\n",
    "first(df,1) #for only 1 rows to display, up to you"
   ]
  },
  {
   "cell_type": "code",
   "execution_count": 4,
   "id": "539c2322",
   "metadata": {},
   "outputs": [
    {
     "data": {
      "text/plain": [
       "(550, 7)"
      ]
     },
     "execution_count": 4,
     "metadata": {},
     "output_type": "execute_result"
    }
   ],
   "source": [
    "#to check the size of the dataset\n",
    "size(df)"
   ]
  },
  {
   "cell_type": "code",
   "execution_count": 5,
   "id": "b09e600d",
   "metadata": {},
   "outputs": [
    {
     "data": {
      "text/html": [
       "<table class=\"data-frame\"><thead><tr><th></th><th>Name</th></tr><tr><th></th><th>String</th></tr></thead><tbody><p>550 rows × 7 columns (omitted printing of 6 columns)</p><tr><th>1</th><td>10-Day Green Smoothie Cleanse</td></tr><tr><th>2</th><td>11/22/63: A Novel</td></tr><tr><th>3</th><td>12 Rules for Life: An Antidote to Chaos</td></tr><tr><th>4</th><td>1984 (Signet Classics)</td></tr><tr><th>5</th><td>5,000 Awesome Facts (About Everything!) (National Geographic Kids)</td></tr><tr><th>6</th><td>A Dance with Dragons (A Song of Ice and Fire)</td></tr><tr><th>7</th><td>A Game of Thrones / A Clash of Kings / A Storm of Swords / A Feast of Crows / A Dance with Dragons</td></tr><tr><th>8</th><td>A Gentleman in Moscow: A Novel</td></tr><tr><th>9</th><td>A Higher Loyalty: Truth, Lies, and Leadership</td></tr><tr><th>10</th><td>A Man Called Ove: A Novel</td></tr><tr><th>11</th><td>A Man Called Ove: A Novel</td></tr><tr><th>12</th><td>A Patriot's History of the United States: From Columbus's Great Discovery to the War on Terror</td></tr><tr><th>13</th><td>A Stolen Life: A Memoir</td></tr><tr><th>14</th><td>A Wrinkle in Time (Time Quintet)</td></tr><tr><th>15</th><td>Act Like a Lady, Think Like a Man: What Men Really Think About Love, Relationships, Intimacy, and Commitment</td></tr><tr><th>16</th><td>Adult Coloring Book Designs: Stress Relief Coloring Book: Garden Designs, Mandalas, Animals, and Paisley Patterns</td></tr><tr><th>17</th><td>Adult Coloring Book: Stress Relieving Animal Designs</td></tr><tr><th>18</th><td>Adult Coloring Book: Stress Relieving Patterns</td></tr><tr><th>19</th><td>Adult Coloring Books: A Coloring Book for Adults Featuring Mandalas and Henna Inspired Flowers, Animals, and Paisley…</td></tr><tr><th>20</th><td>Alexander Hamilton</td></tr><tr><th>21</th><td>All the Light We Cannot See</td></tr><tr><th>22</th><td>All the Light We Cannot See</td></tr><tr><th>23</th><td>Allegiant</td></tr><tr><th>24</th><td>American Sniper: The Autobiography of the Most Lethal Sniper in U.S. Military History</td></tr><tr><th>25</th><td>And the Mountains Echoed</td></tr><tr><th>26</th><td>Arguing with Idiots: How to Stop Small Minds and Big Government</td></tr><tr><th>27</th><td>Astrophysics for People in a Hurry</td></tr><tr><th>28</th><td>Autobiography of Mark Twain, Vol. 1</td></tr><tr><th>29</th><td>Baby Touch and Feel: Animals</td></tr><tr><th>30</th><td>Balance (Angie's Extreme Stress Menders)</td></tr><tr><th>&vellip;</th><td>&vellip;</td></tr></tbody></table>"
      ],
      "text/latex": [
       "\\begin{tabular}{r|cc}\n",
       "\t& Name & \\\\\n",
       "\t\\hline\n",
       "\t& String & \\\\\n",
       "\t\\hline\n",
       "\t1 & 10-Day Green Smoothie Cleanse & $\\dots$ \\\\\n",
       "\t2 & 11/22/63: A Novel & $\\dots$ \\\\\n",
       "\t3 & 12 Rules for Life: An Antidote to Chaos & $\\dots$ \\\\\n",
       "\t4 & 1984 (Signet Classics) & $\\dots$ \\\\\n",
       "\t5 & 5,000 Awesome Facts (About Everything!) (National Geographic Kids) & $\\dots$ \\\\\n",
       "\t6 & A Dance with Dragons (A Song of Ice and Fire) & $\\dots$ \\\\\n",
       "\t7 & A Game of Thrones / A Clash of Kings / A Storm of Swords / A Feast of Crows / A Dance with Dragons & $\\dots$ \\\\\n",
       "\t8 & A Gentleman in Moscow: A Novel & $\\dots$ \\\\\n",
       "\t9 & A Higher Loyalty: Truth, Lies, and Leadership & $\\dots$ \\\\\n",
       "\t10 & A Man Called Ove: A Novel & $\\dots$ \\\\\n",
       "\t11 & A Man Called Ove: A Novel & $\\dots$ \\\\\n",
       "\t12 & A Patriot's History of the United States: From Columbus's Great Discovery to the War on Terror & $\\dots$ \\\\\n",
       "\t13 & A Stolen Life: A Memoir & $\\dots$ \\\\\n",
       "\t14 & A Wrinkle in Time (Time Quintet) & $\\dots$ \\\\\n",
       "\t15 & Act Like a Lady, Think Like a Man: What Men Really Think About Love, Relationships, Intimacy, and Commitment & $\\dots$ \\\\\n",
       "\t16 & Adult Coloring Book Designs: Stress Relief Coloring Book: Garden Designs, Mandalas, Animals, and Paisley Patterns & $\\dots$ \\\\\n",
       "\t17 & Adult Coloring Book: Stress Relieving Animal Designs & $\\dots$ \\\\\n",
       "\t18 & Adult Coloring Book: Stress Relieving Patterns & $\\dots$ \\\\\n",
       "\t19 & Adult Coloring Books: A Coloring Book for Adults Featuring Mandalas and Henna Inspired Flowers, Animals, and Paisley… & $\\dots$ \\\\\n",
       "\t20 & Alexander Hamilton & $\\dots$ \\\\\n",
       "\t21 & All the Light We Cannot See & $\\dots$ \\\\\n",
       "\t22 & All the Light We Cannot See & $\\dots$ \\\\\n",
       "\t23 & Allegiant & $\\dots$ \\\\\n",
       "\t24 & American Sniper: The Autobiography of the Most Lethal Sniper in U.S. Military History & $\\dots$ \\\\\n",
       "\t25 & And the Mountains Echoed & $\\dots$ \\\\\n",
       "\t26 & Arguing with Idiots: How to Stop Small Minds and Big Government & $\\dots$ \\\\\n",
       "\t27 & Astrophysics for People in a Hurry & $\\dots$ \\\\\n",
       "\t28 & Autobiography of Mark Twain, Vol. 1 & $\\dots$ \\\\\n",
       "\t29 & Baby Touch and Feel: Animals & $\\dots$ \\\\\n",
       "\t30 & Balance (Angie's Extreme Stress Menders) & $\\dots$ \\\\\n",
       "\t$\\dots$ & $\\dots$ &  \\\\\n",
       "\\end{tabular}\n"
      ],
      "text/plain": [
       "550×7 typename(DataFrame). Omitted printing of 7 columns\n",
       "│ Row │ │     │ ├─────┼\n",
       "│ 1   │ │ 2   │ │ 3   │ │ 4   │ │ 5   │ │ 6   │ │ 7   │ │ 8   │ │ 9   │ │ 10  │ \n",
       "⋮\n",
       "│ 540 │ │ 541 │ │ 542 │ │ 543 │ │ 544 │ │ 545 │ │ 546 │ │ 547 │ │ 548 │ │ 549 │ │ 550 │ "
      ]
     },
     "execution_count": 5,
     "metadata": {},
     "output_type": "execute_result"
    }
   ],
   "source": [
    "#By default the dropmissing and dropmissing! functions keep the Union{T, Missing} element type in columns selected for row removal. To remove the Missing part, if present, set the disallowmissing option to true (it will become the default behavior in the future).\n",
    "dropmissing(df)\n"
   ]
  },
  {
   "cell_type": "code",
   "execution_count": 6,
   "id": "7bc836f6",
   "metadata": {},
   "outputs": [
    {
     "data": {
      "text/html": [
       "<table class=\"data-frame\"><thead><tr><th></th><th>Name</th></tr><tr><th></th><th>String</th></tr></thead><tbody><p>550 rows × 9 columns (omitted printing of 8 columns)</p><tr><th>1</th><td>10-Day Green Smoothie Cleanse</td></tr><tr><th>2</th><td>11/22/63: A Novel</td></tr><tr><th>3</th><td>12 Rules for Life: An Antidote to Chaos</td></tr><tr><th>4</th><td>1984 (Signet Classics)</td></tr><tr><th>5</th><td>5,000 Awesome Facts (About Everything!) (National Geographic Kids)</td></tr><tr><th>6</th><td>A Dance with Dragons (A Song of Ice and Fire)</td></tr><tr><th>7</th><td>A Game of Thrones / A Clash of Kings / A Storm of Swords / A Feast of Crows / A Dance with Dragons</td></tr><tr><th>8</th><td>A Gentleman in Moscow: A Novel</td></tr><tr><th>9</th><td>A Higher Loyalty: Truth, Lies, and Leadership</td></tr><tr><th>10</th><td>A Man Called Ove: A Novel</td></tr><tr><th>11</th><td>A Man Called Ove: A Novel</td></tr><tr><th>12</th><td>A Patriot's History of the United States: From Columbus's Great Discovery to the War on Terror</td></tr><tr><th>13</th><td>A Stolen Life: A Memoir</td></tr><tr><th>14</th><td>A Wrinkle in Time (Time Quintet)</td></tr><tr><th>15</th><td>Act Like a Lady, Think Like a Man: What Men Really Think About Love, Relationships, Intimacy, and Commitment</td></tr><tr><th>16</th><td>Adult Coloring Book Designs: Stress Relief Coloring Book: Garden Designs, Mandalas, Animals, and Paisley Patterns</td></tr><tr><th>17</th><td>Adult Coloring Book: Stress Relieving Animal Designs</td></tr><tr><th>18</th><td>Adult Coloring Book: Stress Relieving Patterns</td></tr><tr><th>19</th><td>Adult Coloring Books: A Coloring Book for Adults Featuring Mandalas and Henna Inspired Flowers, Animals, and Paisley…</td></tr><tr><th>20</th><td>Alexander Hamilton</td></tr><tr><th>21</th><td>All the Light We Cannot See</td></tr><tr><th>22</th><td>All the Light We Cannot See</td></tr><tr><th>23</th><td>Allegiant</td></tr><tr><th>24</th><td>American Sniper: The Autobiography of the Most Lethal Sniper in U.S. Military History</td></tr><tr><th>25</th><td>And the Mountains Echoed</td></tr><tr><th>26</th><td>Arguing with Idiots: How to Stop Small Minds and Big Government</td></tr><tr><th>27</th><td>Astrophysics for People in a Hurry</td></tr><tr><th>28</th><td>Autobiography of Mark Twain, Vol. 1</td></tr><tr><th>29</th><td>Baby Touch and Feel: Animals</td></tr><tr><th>30</th><td>Balance (Angie's Extreme Stress Menders)</td></tr><tr><th>&vellip;</th><td>&vellip;</td></tr></tbody></table>"
      ],
      "text/latex": [
       "\\begin{tabular}{r|cc}\n",
       "\t& Name & \\\\\n",
       "\t\\hline\n",
       "\t& String & \\\\\n",
       "\t\\hline\n",
       "\t1 & 10-Day Green Smoothie Cleanse & $\\dots$ \\\\\n",
       "\t2 & 11/22/63: A Novel & $\\dots$ \\\\\n",
       "\t3 & 12 Rules for Life: An Antidote to Chaos & $\\dots$ \\\\\n",
       "\t4 & 1984 (Signet Classics) & $\\dots$ \\\\\n",
       "\t5 & 5,000 Awesome Facts (About Everything!) (National Geographic Kids) & $\\dots$ \\\\\n",
       "\t6 & A Dance with Dragons (A Song of Ice and Fire) & $\\dots$ \\\\\n",
       "\t7 & A Game of Thrones / A Clash of Kings / A Storm of Swords / A Feast of Crows / A Dance with Dragons & $\\dots$ \\\\\n",
       "\t8 & A Gentleman in Moscow: A Novel & $\\dots$ \\\\\n",
       "\t9 & A Higher Loyalty: Truth, Lies, and Leadership & $\\dots$ \\\\\n",
       "\t10 & A Man Called Ove: A Novel & $\\dots$ \\\\\n",
       "\t11 & A Man Called Ove: A Novel & $\\dots$ \\\\\n",
       "\t12 & A Patriot's History of the United States: From Columbus's Great Discovery to the War on Terror & $\\dots$ \\\\\n",
       "\t13 & A Stolen Life: A Memoir & $\\dots$ \\\\\n",
       "\t14 & A Wrinkle in Time (Time Quintet) & $\\dots$ \\\\\n",
       "\t15 & Act Like a Lady, Think Like a Man: What Men Really Think About Love, Relationships, Intimacy, and Commitment & $\\dots$ \\\\\n",
       "\t16 & Adult Coloring Book Designs: Stress Relief Coloring Book: Garden Designs, Mandalas, Animals, and Paisley Patterns & $\\dots$ \\\\\n",
       "\t17 & Adult Coloring Book: Stress Relieving Animal Designs & $\\dots$ \\\\\n",
       "\t18 & Adult Coloring Book: Stress Relieving Patterns & $\\dots$ \\\\\n",
       "\t19 & Adult Coloring Books: A Coloring Book for Adults Featuring Mandalas and Henna Inspired Flowers, Animals, and Paisley… & $\\dots$ \\\\\n",
       "\t20 & Alexander Hamilton & $\\dots$ \\\\\n",
       "\t21 & All the Light We Cannot See & $\\dots$ \\\\\n",
       "\t22 & All the Light We Cannot See & $\\dots$ \\\\\n",
       "\t23 & Allegiant & $\\dots$ \\\\\n",
       "\t24 & American Sniper: The Autobiography of the Most Lethal Sniper in U.S. Military History & $\\dots$ \\\\\n",
       "\t25 & And the Mountains Echoed & $\\dots$ \\\\\n",
       "\t26 & Arguing with Idiots: How to Stop Small Minds and Big Government & $\\dots$ \\\\\n",
       "\t27 & Astrophysics for People in a Hurry & $\\dots$ \\\\\n",
       "\t28 & Autobiography of Mark Twain, Vol. 1 & $\\dots$ \\\\\n",
       "\t29 & Baby Touch and Feel: Animals & $\\dots$ \\\\\n",
       "\t30 & Balance (Angie's Extreme Stress Menders) & $\\dots$ \\\\\n",
       "\t$\\dots$ & $\\dots$ &  \\\\\n",
       "\\end{tabular}\n"
      ],
      "text/plain": [
       "550×9 typename(DataFrame). Omitted printing of 9 columns\n",
       "│ Row │ │     │ ├─────┼\n",
       "│ 1   │ │ 2   │ │ 3   │ │ 4   │ │ 5   │ │ 6   │ │ 7   │ │ 8   │ │ 9   │ │ 10  │ \n",
       "⋮\n",
       "│ 540 │ │ 541 │ │ 542 │ │ 543 │ │ 544 │ │ 545 │ │ 546 │ │ 547 │ │ 548 │ │ 549 │ │ 550 │ "
      ]
     },
     "execution_count": 6,
     "metadata": {},
     "output_type": "execute_result"
    }
   ],
   "source": [
    "#One Hot Encoding\n",
    "target_final=Lathe.preprocess.OneHotEncode(df,:Genre)"
   ]
  },
  {
   "cell_type": "code",
   "execution_count": 7,
   "id": "1d493657",
   "metadata": {},
   "outputs": [
    {
     "data": {
      "text/plain": [
       "9-element Vector{Symbol}:\n",
       " :Name\n",
       " :Author\n",
       " :User_Rating\n",
       " :Reviews\n",
       " :Price\n",
       " :Year\n",
       " :Genre\n",
       " :non_fiction\n",
       " :fiction"
      ]
     },
     "execution_count": 7,
     "metadata": {},
     "output_type": "execute_result"
    }
   ],
   "source": [
    "#to see the names of all elements\n",
    "names(target_final)"
   ]
  },
  {
   "cell_type": "code",
   "execution_count": 8,
   "id": "c6c6646d",
   "metadata": {},
   "outputs": [
    {
     "data": {
      "text/html": [
       "<table class=\"data-frame\"><thead><tr><th></th><th>User_Rating</th><th>Reviews</th><th>Price</th><th>Year</th><th>fiction</th></tr><tr><th></th><th>Float64</th><th>Int64</th><th>Int64</th><th>Int64</th><th>Bool</th></tr></thead><tbody><p>550 rows × 5 columns</p><tr><th>1</th><td>4.7</td><td>17350</td><td>8</td><td>2016</td><td>0</td></tr><tr><th>2</th><td>4.6</td><td>2052</td><td>22</td><td>2011</td><td>1</td></tr><tr><th>3</th><td>4.7</td><td>18979</td><td>15</td><td>2018</td><td>0</td></tr><tr><th>4</th><td>4.7</td><td>21424</td><td>6</td><td>2017</td><td>1</td></tr><tr><th>5</th><td>4.8</td><td>7665</td><td>12</td><td>2019</td><td>0</td></tr><tr><th>6</th><td>4.4</td><td>12643</td><td>11</td><td>2011</td><td>1</td></tr><tr><th>7</th><td>4.7</td><td>19735</td><td>30</td><td>2014</td><td>1</td></tr><tr><th>8</th><td>4.7</td><td>19699</td><td>15</td><td>2017</td><td>1</td></tr><tr><th>9</th><td>4.7</td><td>5983</td><td>3</td><td>2018</td><td>0</td></tr><tr><th>10</th><td>4.6</td><td>23848</td><td>8</td><td>2016</td><td>1</td></tr><tr><th>11</th><td>4.6</td><td>23848</td><td>8</td><td>2017</td><td>1</td></tr><tr><th>12</th><td>4.6</td><td>460</td><td>2</td><td>2010</td><td>0</td></tr><tr><th>13</th><td>4.6</td><td>4149</td><td>32</td><td>2011</td><td>0</td></tr><tr><th>14</th><td>4.5</td><td>5153</td><td>5</td><td>2018</td><td>1</td></tr><tr><th>15</th><td>4.6</td><td>5013</td><td>17</td><td>2009</td><td>0</td></tr><tr><th>16</th><td>4.5</td><td>2313</td><td>4</td><td>2016</td><td>0</td></tr><tr><th>17</th><td>4.6</td><td>2925</td><td>6</td><td>2015</td><td>0</td></tr><tr><th>18</th><td>4.4</td><td>2951</td><td>6</td><td>2015</td><td>0</td></tr><tr><th>19</th><td>4.5</td><td>2426</td><td>8</td><td>2015</td><td>0</td></tr><tr><th>20</th><td>4.8</td><td>9198</td><td>13</td><td>2016</td><td>0</td></tr><tr><th>21</th><td>4.6</td><td>36348</td><td>14</td><td>2014</td><td>1</td></tr><tr><th>22</th><td>4.6</td><td>36348</td><td>14</td><td>2015</td><td>1</td></tr><tr><th>23</th><td>3.9</td><td>6310</td><td>13</td><td>2013</td><td>1</td></tr><tr><th>24</th><td>4.6</td><td>15921</td><td>9</td><td>2015</td><td>0</td></tr><tr><th>25</th><td>4.3</td><td>12159</td><td>13</td><td>2013</td><td>1</td></tr><tr><th>26</th><td>4.6</td><td>798</td><td>5</td><td>2009</td><td>0</td></tr><tr><th>27</th><td>4.7</td><td>9374</td><td>9</td><td>2017</td><td>0</td></tr><tr><th>28</th><td>4.2</td><td>491</td><td>14</td><td>2010</td><td>0</td></tr><tr><th>29</th><td>4.6</td><td>5360</td><td>5</td><td>2015</td><td>0</td></tr><tr><th>30</th><td>4.6</td><td>1909</td><td>11</td><td>2015</td><td>0</td></tr><tr><th>&vellip;</th><td>&vellip;</td><td>&vellip;</td><td>&vellip;</td><td>&vellip;</td><td>&vellip;</td></tr></tbody></table>"
      ],
      "text/latex": [
       "\\begin{tabular}{r|ccccc}\n",
       "\t& User\\_Rating & Reviews & Price & Year & fiction\\\\\n",
       "\t\\hline\n",
       "\t& Float64 & Int64 & Int64 & Int64 & Bool\\\\\n",
       "\t\\hline\n",
       "\t1 & 4.7 & 17350 & 8 & 2016 & 0 \\\\\n",
       "\t2 & 4.6 & 2052 & 22 & 2011 & 1 \\\\\n",
       "\t3 & 4.7 & 18979 & 15 & 2018 & 0 \\\\\n",
       "\t4 & 4.7 & 21424 & 6 & 2017 & 1 \\\\\n",
       "\t5 & 4.8 & 7665 & 12 & 2019 & 0 \\\\\n",
       "\t6 & 4.4 & 12643 & 11 & 2011 & 1 \\\\\n",
       "\t7 & 4.7 & 19735 & 30 & 2014 & 1 \\\\\n",
       "\t8 & 4.7 & 19699 & 15 & 2017 & 1 \\\\\n",
       "\t9 & 4.7 & 5983 & 3 & 2018 & 0 \\\\\n",
       "\t10 & 4.6 & 23848 & 8 & 2016 & 1 \\\\\n",
       "\t11 & 4.6 & 23848 & 8 & 2017 & 1 \\\\\n",
       "\t12 & 4.6 & 460 & 2 & 2010 & 0 \\\\\n",
       "\t13 & 4.6 & 4149 & 32 & 2011 & 0 \\\\\n",
       "\t14 & 4.5 & 5153 & 5 & 2018 & 1 \\\\\n",
       "\t15 & 4.6 & 5013 & 17 & 2009 & 0 \\\\\n",
       "\t16 & 4.5 & 2313 & 4 & 2016 & 0 \\\\\n",
       "\t17 & 4.6 & 2925 & 6 & 2015 & 0 \\\\\n",
       "\t18 & 4.4 & 2951 & 6 & 2015 & 0 \\\\\n",
       "\t19 & 4.5 & 2426 & 8 & 2015 & 0 \\\\\n",
       "\t20 & 4.8 & 9198 & 13 & 2016 & 0 \\\\\n",
       "\t21 & 4.6 & 36348 & 14 & 2014 & 1 \\\\\n",
       "\t22 & 4.6 & 36348 & 14 & 2015 & 1 \\\\\n",
       "\t23 & 3.9 & 6310 & 13 & 2013 & 1 \\\\\n",
       "\t24 & 4.6 & 15921 & 9 & 2015 & 0 \\\\\n",
       "\t25 & 4.3 & 12159 & 13 & 2013 & 1 \\\\\n",
       "\t26 & 4.6 & 798 & 5 & 2009 & 0 \\\\\n",
       "\t27 & 4.7 & 9374 & 9 & 2017 & 0 \\\\\n",
       "\t28 & 4.2 & 491 & 14 & 2010 & 0 \\\\\n",
       "\t29 & 4.6 & 5360 & 5 & 2015 & 0 \\\\\n",
       "\t30 & 4.6 & 1909 & 11 & 2015 & 0 \\\\\n",
       "\t$\\dots$ & $\\dots$ & $\\dots$ & $\\dots$ & $\\dots$ & $\\dots$ \\\\\n",
       "\\end{tabular}\n"
      ],
      "text/plain": [
       "550×5 typename(DataFrame)\n",
       "│ Row │ User_Rating │ Reviews │ Price │ Year  │ fiction │\n",
       "│     │ \u001b[90mFloat64\u001b[39m     │ \u001b[90mInt64\u001b[39m   │ \u001b[90mInt64\u001b[39m │ \u001b[90mInt64\u001b[39m │ \u001b[90mBool\u001b[39m    │\n",
       "├─────┼─────────────┼─────────┼───────┼───────┼─────────┤\n",
       "│ 1   │ 4.7         │ 17350   │ 8     │ 2016  │ 0       │\n",
       "│ 2   │ 4.6         │ 2052    │ 22    │ 2011  │ 1       │\n",
       "│ 3   │ 4.7         │ 18979   │ 15    │ 2018  │ 0       │\n",
       "│ 4   │ 4.7         │ 21424   │ 6     │ 2017  │ 1       │\n",
       "│ 5   │ 4.8         │ 7665    │ 12    │ 2019  │ 0       │\n",
       "│ 6   │ 4.4         │ 12643   │ 11    │ 2011  │ 1       │\n",
       "│ 7   │ 4.7         │ 19735   │ 30    │ 2014  │ 1       │\n",
       "│ 8   │ 4.7         │ 19699   │ 15    │ 2017  │ 1       │\n",
       "│ 9   │ 4.7         │ 5983    │ 3     │ 2018  │ 0       │\n",
       "│ 10  │ 4.6         │ 23848   │ 8     │ 2016  │ 1       │\n",
       "⋮\n",
       "│ 540 │ 4.2         │ 1302    │ 11    │ 2010  │ 0       │\n",
       "│ 541 │ 4.8         │ 21625   │ 9     │ 2013  │ 1       │\n",
       "│ 542 │ 4.8         │ 21625   │ 9     │ 2014  │ 1       │\n",
       "│ 543 │ 4.8         │ 21625   │ 9     │ 2015  │ 1       │\n",
       "│ 544 │ 4.8         │ 21625   │ 9     │ 2016  │ 1       │\n",
       "│ 545 │ 4.8         │ 21625   │ 9     │ 2017  │ 1       │\n",
       "│ 546 │ 4.9         │ 9413    │ 8     │ 2019  │ 1       │\n",
       "│ 547 │ 4.7         │ 14331   │ 8     │ 2016  │ 0       │\n",
       "│ 548 │ 4.7         │ 14331   │ 8     │ 2017  │ 0       │\n",
       "│ 549 │ 4.7         │ 14331   │ 8     │ 2018  │ 0       │\n",
       "│ 550 │ 4.7         │ 14331   │ 8     │ 2019  │ 0       │"
      ]
     },
     "execution_count": 8,
     "metadata": {},
     "output_type": "execute_result"
    }
   ],
   "source": [
    "#Feature selection\n",
    "\n",
    "specifics=df[:,[:User_Rating,:Reviews,:Price,:Year,:fiction]]"
   ]
  },
  {
   "cell_type": "code",
   "execution_count": 9,
   "id": "66ef2476",
   "metadata": {},
   "outputs": [
    {
     "data": {
      "text/plain": [
       "2-element Named Vector{Int64}\n",
       "Dim1  │ \n",
       "──────┼────\n",
       "false │ 310\n",
       "true  │ 240"
      ]
     },
     "execution_count": 9,
     "metadata": {},
     "output_type": "execute_result"
    }
   ],
   "source": [
    "#Checkbalance\n",
    "using FreqTables\n",
    "classes=freqtable(target_final[:fiction])"
   ]
  },
  {
   "cell_type": "code",
   "execution_count": 10,
   "id": "c43c78cc",
   "metadata": {},
   "outputs": [
    {
     "data": {
      "text/plain": [
       "(413×5 typename(DataFrame)\n",
       "│ Row │ User_Rating │ Reviews │ Price │ Year  │ fiction │\n",
       "│     │ \u001b[90mFloat64\u001b[39m     │ \u001b[90mInt64\u001b[39m   │ \u001b[90mInt64\u001b[39m │ \u001b[90mInt64\u001b[39m │ \u001b[90mBool\u001b[39m    │\n",
       "├─────┼─────────────┼─────────┼───────┼───────┼─────────┤\n",
       "│ 1   │ 4.7         │ 17350   │ 8     │ 2016  │ 0       │\n",
       "│ 2   │ 4.7         │ 18979   │ 15    │ 2018  │ 0       │\n",
       "│ 3   │ 4.8         │ 7665    │ 12    │ 2019  │ 0       │\n",
       "│ 4   │ 4.7         │ 19699   │ 15    │ 2017  │ 1       │\n",
       "│ 5   │ 4.6         │ 23848   │ 8     │ 2016  │ 1       │\n",
       "│ 6   │ 4.6         │ 23848   │ 8     │ 2017  │ 1       │\n",
       "│ 7   │ 4.6         │ 460     │ 2     │ 2010  │ 0       │\n",
       "│ 8   │ 4.6         │ 4149    │ 32    │ 2011  │ 0       │\n",
       "│ 9   │ 4.5         │ 5153    │ 5     │ 2018  │ 1       │\n",
       "│ 10  │ 4.6         │ 5013    │ 17    │ 2009  │ 0       │\n",
       "⋮\n",
       "│ 403 │ 4.4         │ 3341    │ 9     │ 2011  │ 0       │\n",
       "│ 404 │ 4.4         │ 7497    │ 6     │ 2013  │ 0       │\n",
       "│ 405 │ 4.8         │ 13779   │ 14    │ 2016  │ 0       │\n",
       "│ 406 │ 4.8         │ 87841   │ 15    │ 2019  │ 1       │\n",
       "│ 407 │ 4.4         │ 17044   │ 18    │ 2012  │ 0       │\n",
       "│ 408 │ 4.2         │ 1302    │ 11    │ 2010  │ 0       │\n",
       "│ 409 │ 4.8         │ 21625   │ 9     │ 2015  │ 1       │\n",
       "│ 410 │ 4.8         │ 21625   │ 9     │ 2016  │ 1       │\n",
       "│ 411 │ 4.7         │ 14331   │ 8     │ 2016  │ 0       │\n",
       "│ 412 │ 4.7         │ 14331   │ 8     │ 2018  │ 0       │\n",
       "│ 413 │ 4.7         │ 14331   │ 8     │ 2019  │ 0       │, 137×5 typename(DataFrame)\n",
       "│ Row │ User_Rating │ Reviews │ Price │ Year  │ fiction │\n",
       "│     │ \u001b[90mFloat64\u001b[39m     │ \u001b[90mInt64\u001b[39m   │ \u001b[90mInt64\u001b[39m │ \u001b[90mInt64\u001b[39m │ \u001b[90mBool\u001b[39m    │\n",
       "├─────┼─────────────┼─────────┼───────┼───────┼─────────┤\n",
       "│ 1   │ 4.6         │ 2052    │ 22    │ 2011  │ 1       │\n",
       "│ 2   │ 4.7         │ 21424   │ 6     │ 2017  │ 1       │\n",
       "│ 3   │ 4.4         │ 12643   │ 11    │ 2011  │ 1       │\n",
       "│ 4   │ 4.7         │ 19735   │ 30    │ 2014  │ 1       │\n",
       "│ 5   │ 4.7         │ 5983    │ 3     │ 2018  │ 0       │\n",
       "│ 6   │ 4.6         │ 798     │ 5     │ 2009  │ 0       │\n",
       "│ 7   │ 4.6         │ 1909    │ 11    │ 2015  │ 0       │\n",
       "│ 8   │ 4.7         │ 3729    │ 18    │ 2016  │ 0       │\n",
       "│ 9   │ 4.7         │ 22614   │ 11    │ 2010  │ 1       │\n",
       "│ 10  │ 4.7         │ 4761    │ 16    │ 2016  │ 0       │\n",
       "⋮\n",
       "│ 127 │ 4.8         │ 29673   │ 13    │ 2014  │ 0       │\n",
       "│ 128 │ 4.8         │ 3829    │ 42    │ 2009  │ 1       │\n",
       "│ 129 │ 4.4         │ 7497    │ 6     │ 2012  │ 0       │\n",
       "│ 130 │ 4.8         │ 9967    │ 13    │ 2009  │ 1       │\n",
       "│ 131 │ 4.6         │ 6669    │ 12    │ 2018  │ 0       │\n",
       "│ 132 │ 4.5         │ 10760   │ 15    │ 2012  │ 1       │\n",
       "│ 133 │ 4.8         │ 21625   │ 9     │ 2013  │ 1       │\n",
       "│ 134 │ 4.8         │ 21625   │ 9     │ 2014  │ 1       │\n",
       "│ 135 │ 4.8         │ 21625   │ 9     │ 2017  │ 1       │\n",
       "│ 136 │ 4.9         │ 9413    │ 8     │ 2019  │ 1       │\n",
       "│ 137 │ 4.7         │ 14331   │ 8     │ 2017  │ 0       │)"
      ]
     },
     "execution_count": 10,
     "metadata": {},
     "output_type": "execute_result"
    }
   ],
   "source": [
    "#we need to reduce the number of false +ve and false -ve because they are misleading data\n",
    "#split Data\n",
    "using Lathe.preprocess:TrainTestSplit \n",
    "train,test =TrainTestSplit(specifics,.75)\n"
   ]
  },
  {
   "cell_type": "code",
   "execution_count": 11,
   "id": "03e2e4d5",
   "metadata": {},
   "outputs": [
    {
     "data": {
      "text/plain": [
       "StatsModels.TableRegressionModel{GeneralizedLinearModel{GLM.GlmResp{Vector{Float64}, Binomial{Float64}, LogitLink}, GLM.DensePredChol{Float64, LinearAlgebra.Cholesky{Float64, Matrix{Float64}}}}, Matrix{Float64}}\n",
       "\n",
       "fiction ~ 1 + User_Rating + Reviews + Price + Year\n",
       "\n",
       "Coefficients:\n",
       "──────────────────────────────────────────────────────────────────────────────────\n",
       "                    Coef.   Std. Error      z  Pr(>|z|)    Lower 95%     Upper 95%\n",
       "──────────────────────────────────────────────────────────────────────────────────\n",
       "(Intercept)  179.655       74.5456       2.41    0.0160  33.5482      325.762\n",
       "User_Rating    0.973244     0.512124     1.90    0.0574  -0.0305002     1.97699\n",
       "Reviews        5.46379e-5   1.10888e-5   4.93    <1e-06   3.29043e-5    7.63715e-5\n",
       "Price         -0.0637258    0.0158745   -4.01    <1e-04  -0.0948393    -0.0326123\n",
       "Year          -0.0915123    0.0373232   -2.45    0.0142  -0.164664     -0.0183602\n",
       "──────────────────────────────────────────────────────────────────────────────────"
      ]
     },
     "execution_count": 11,
     "metadata": {},
     "output_type": "execute_result"
    }
   ],
   "source": [
    "#Build Model, to build model 1st specify formula, glm to build model\n",
    "fm=@formula(fiction~User_Rating+Reviews+Price+Year)\n",
    "logit=glm(fm,train,Binomial(),LogitLink())"
   ]
  },
  {
   "cell_type": "code",
   "execution_count": 35,
   "id": "1cfb9678",
   "metadata": {},
   "outputs": [
    {
     "data": {
      "text/plain": [
       "137-element Vector{Union{Missing, Float64}}:\n",
       " 0.23339429307087134\n",
       " 0.6075594683919316\n",
       " 0.4739639219084324\n",
       " 0.2869791454334424\n",
       " 0.4238635398320719\n",
       " 0.502151084853188\n",
       " 0.29689624800227754\n",
       " 0.23095094314053127\n",
       " 0.6950934865389087\n",
       " 0.2652005010494293\n",
       " 0.4735391739588684\n",
       " 0.45563735769721114\n",
       " 0.31551560789527217\n",
       " ⋮\n",
       " 0.6095393182727347\n",
       " 0.6928661849180286\n",
       " 0.12036324752996164\n",
       " 0.46051036381137667\n",
       " 0.5484527784783496\n",
       " 0.2808380811552616\n",
       " 0.387884627172099\n",
       " 0.6726606257625964\n",
       " 0.6522016988064601\n",
       " 0.5876342980707452\n",
       " 0.4170202530316672\n",
       " 0.4805266212486097"
      ]
     },
     "execution_count": 35,
     "metadata": {},
     "output_type": "execute_result"
    }
   ],
   "source": [
    "#Prediction\n",
    "predictions=predict(logit,test)"
   ]
  },
  {
   "cell_type": "code",
   "execution_count": 13,
   "id": "925bf12a",
   "metadata": {},
   "outputs": [
    {
     "data": {
      "text/plain": [
       "137-element Vector{Int64}:\n",
       " 0\n",
       " 1\n",
       " 0\n",
       " 0\n",
       " 0\n",
       " 1\n",
       " 0\n",
       " 0\n",
       " 1\n",
       " 0\n",
       " 0\n",
       " 0\n",
       " 0\n",
       " ⋮\n",
       " 1\n",
       " 1\n",
       " 0\n",
       " 0\n",
       " 1\n",
       " 0\n",
       " 0\n",
       " 1\n",
       " 1\n",
       " 1\n",
       " 0\n",
       " 0"
      ]
     },
     "execution_count": 13,
     "metadata": {},
     "output_type": "execute_result"
    }
   ],
   "source": [
    "#to convert output in 0's and 1's\n",
    "prediction_class=[if x<0.5 0 else 1 end for x in predictions]"
   ]
  },
  {
   "cell_type": "code",
   "execution_count": 14,
   "id": "de502c32",
   "metadata": {},
   "outputs": [
    {
     "data": {
      "text/html": [
       "<table class=\"data-frame\"><thead><tr><th></th><th>y_actual</th><th>y_predicted</th><th>prob_predicted</th></tr><tr><th></th><th>Bool</th><th>Int64</th><th>Float64⍰</th></tr></thead><tbody><p>137 rows × 3 columns</p><tr><th>1</th><td>1</td><td>0</td><td>0.233394</td></tr><tr><th>2</th><td>1</td><td>1</td><td>0.607559</td></tr><tr><th>3</th><td>1</td><td>0</td><td>0.473964</td></tr><tr><th>4</th><td>1</td><td>0</td><td>0.286979</td></tr><tr><th>5</th><td>0</td><td>0</td><td>0.423864</td></tr><tr><th>6</th><td>0</td><td>1</td><td>0.502151</td></tr><tr><th>7</th><td>0</td><td>0</td><td>0.296896</td></tr><tr><th>8</th><td>0</td><td>0</td><td>0.230951</td></tr><tr><th>9</th><td>1</td><td>1</td><td>0.695093</td></tr><tr><th>10</th><td>0</td><td>0</td><td>0.265201</td></tr><tr><th>11</th><td>0</td><td>0</td><td>0.473539</td></tr><tr><th>12</th><td>0</td><td>0</td><td>0.455637</td></tr><tr><th>13</th><td>0</td><td>0</td><td>0.315516</td></tr><tr><th>14</th><td>1</td><td>0</td><td>0.433408</td></tr><tr><th>15</th><td>1</td><td>0</td><td>0.264265</td></tr><tr><th>16</th><td>1</td><td>0</td><td>0.400159</td></tr><tr><th>17</th><td>1</td><td>0</td><td>0.473125</td></tr><tr><th>18</th><td>1</td><td>0</td><td>0.412723</td></tr><tr><th>19</th><td>1</td><td>0</td><td>0.417878</td></tr><tr><th>20</th><td>0</td><td>0</td><td>0.385214</td></tr><tr><th>21</th><td>0</td><td>0</td><td>0.421888</td></tr><tr><th>22</th><td>1</td><td>0</td><td>0.386034</td></tr><tr><th>23</th><td>1</td><td>0</td><td>0.273537</td></tr><tr><th>24</th><td>1</td><td>0</td><td>0.203511</td></tr><tr><th>25</th><td>0</td><td>0</td><td>0.362542</td></tr><tr><th>26</th><td>1</td><td>1</td><td>0.586569</td></tr><tr><th>27</th><td>1</td><td>1</td><td>0.564215</td></tr><tr><th>28</th><td>0</td><td>0</td><td>0.45551</td></tr><tr><th>29</th><td>0</td><td>0</td><td>0.497666</td></tr><tr><th>30</th><td>1</td><td>1</td><td>0.857876</td></tr><tr><th>&vellip;</th><td>&vellip;</td><td>&vellip;</td><td>&vellip;</td></tr></tbody></table>"
      ],
      "text/latex": [
       "\\begin{tabular}{r|ccc}\n",
       "\t& y\\_actual & y\\_predicted & prob\\_predicted\\\\\n",
       "\t\\hline\n",
       "\t& Bool & Int64 & Float64⍰\\\\\n",
       "\t\\hline\n",
       "\t1 & 1 & 0 & 0.233394 \\\\\n",
       "\t2 & 1 & 1 & 0.607559 \\\\\n",
       "\t3 & 1 & 0 & 0.473964 \\\\\n",
       "\t4 & 1 & 0 & 0.286979 \\\\\n",
       "\t5 & 0 & 0 & 0.423864 \\\\\n",
       "\t6 & 0 & 1 & 0.502151 \\\\\n",
       "\t7 & 0 & 0 & 0.296896 \\\\\n",
       "\t8 & 0 & 0 & 0.230951 \\\\\n",
       "\t9 & 1 & 1 & 0.695093 \\\\\n",
       "\t10 & 0 & 0 & 0.265201 \\\\\n",
       "\t11 & 0 & 0 & 0.473539 \\\\\n",
       "\t12 & 0 & 0 & 0.455637 \\\\\n",
       "\t13 & 0 & 0 & 0.315516 \\\\\n",
       "\t14 & 1 & 0 & 0.433408 \\\\\n",
       "\t15 & 1 & 0 & 0.264265 \\\\\n",
       "\t16 & 1 & 0 & 0.400159 \\\\\n",
       "\t17 & 1 & 0 & 0.473125 \\\\\n",
       "\t18 & 1 & 0 & 0.412723 \\\\\n",
       "\t19 & 1 & 0 & 0.417878 \\\\\n",
       "\t20 & 0 & 0 & 0.385214 \\\\\n",
       "\t21 & 0 & 0 & 0.421888 \\\\\n",
       "\t22 & 1 & 0 & 0.386034 \\\\\n",
       "\t23 & 1 & 0 & 0.273537 \\\\\n",
       "\t24 & 1 & 0 & 0.203511 \\\\\n",
       "\t25 & 0 & 0 & 0.362542 \\\\\n",
       "\t26 & 1 & 1 & 0.586569 \\\\\n",
       "\t27 & 1 & 1 & 0.564215 \\\\\n",
       "\t28 & 0 & 0 & 0.45551 \\\\\n",
       "\t29 & 0 & 0 & 0.497666 \\\\\n",
       "\t30 & 1 & 1 & 0.857876 \\\\\n",
       "\t$\\dots$ & $\\dots$ & $\\dots$ & $\\dots$ \\\\\n",
       "\\end{tabular}\n"
      ],
      "text/plain": [
       "137×3 typename(DataFrame)\n",
       "│ Row │ y_actual │ y_predicted │ prob_predicted │\n",
       "│     │ \u001b[90mBool\u001b[39m     │ \u001b[90mInt64\u001b[39m       │ \u001b[90mFloat64⍰\u001b[39m       │\n",
       "├─────┼──────────┼─────────────┼────────────────┤\n",
       "│ 1   │ 1        │ 0           │ 0.233394       │\n",
       "│ 2   │ 1        │ 1           │ 0.607559       │\n",
       "│ 3   │ 1        │ 0           │ 0.473964       │\n",
       "│ 4   │ 1        │ 0           │ 0.286979       │\n",
       "│ 5   │ 0        │ 0           │ 0.423864       │\n",
       "│ 6   │ 0        │ 1           │ 0.502151       │\n",
       "│ 7   │ 0        │ 0           │ 0.296896       │\n",
       "│ 8   │ 0        │ 0           │ 0.230951       │\n",
       "│ 9   │ 1        │ 1           │ 0.695093       │\n",
       "│ 10  │ 0        │ 0           │ 0.265201       │\n",
       "⋮\n",
       "│ 127 │ 0        │ 1           │ 0.692866       │\n",
       "│ 128 │ 1        │ 0           │ 0.120363       │\n",
       "│ 129 │ 0        │ 0           │ 0.46051        │\n",
       "│ 130 │ 1        │ 1           │ 0.548453       │\n",
       "│ 131 │ 0        │ 0           │ 0.280838       │\n",
       "│ 132 │ 1        │ 0           │ 0.387885       │\n",
       "│ 133 │ 1        │ 1           │ 0.672661       │\n",
       "│ 134 │ 1        │ 1           │ 0.652202       │\n",
       "│ 135 │ 1        │ 1           │ 0.587634       │\n",
       "│ 136 │ 1        │ 0           │ 0.41702        │\n",
       "│ 137 │ 0        │ 0           │ 0.480527       │"
      ]
     },
     "execution_count": 14,
     "metadata": {},
     "output_type": "execute_result"
    }
   ],
   "source": [
    "#now take the result and turn it to dataframe naming the dataframe prediction_df\n",
    "prediction_df=DataFrame(y_actual=test.fiction,y_predicted=prediction_class,prob_predicted=predictions)"
   ]
  },
  {
   "cell_type": "code",
   "execution_count": 15,
   "id": "9781fde0",
   "metadata": {},
   "outputs": [
    {
     "data": {
      "text/plain": [
       "137-element BitVector:\n",
       " 0\n",
       " 1\n",
       " 0\n",
       " 0\n",
       " 1\n",
       " 0\n",
       " 1\n",
       " 1\n",
       " 1\n",
       " 1\n",
       " 1\n",
       " 1\n",
       " 1\n",
       " ⋮\n",
       " 1\n",
       " 0\n",
       " 0\n",
       " 1\n",
       " 1\n",
       " 1\n",
       " 0\n",
       " 1\n",
       " 1\n",
       " 1\n",
       " 0\n",
       " 1"
      ]
     },
     "execution_count": 15,
     "metadata": {},
     "output_type": "execute_result"
    }
   ],
   "source": [
    "#now we get actual false +ve and -ve \n",
    "prediction_df.correctly_classified=prediction_df.y_actual.==prediction_df.y_predicted\n",
    "#(in this we are comparing the actual and predicted values, making sure they are exactly equal)"
   ]
  },
  {
   "cell_type": "code",
   "execution_count": 16,
   "id": "6ae96682",
   "metadata": {},
   "outputs": [
    {
     "data": {
      "text/plain": [
       "0.6788321167883211"
      ]
     },
     "execution_count": 16,
     "metadata": {},
     "output_type": "execute_result"
    }
   ],
   "source": [
    "#Accuracy\n",
    "accuracy =mean(prediction_df.correctly_classified)"
   ]
  },
  {
   "cell_type": "code",
   "execution_count": 17,
   "id": "ade8c382",
   "metadata": {},
   "outputs": [
    {
     "data": {
      "text/plain": [
       "ROCNums{Int64}\n",
       "  p = 59\n",
       "  n = 78\n",
       "  tp = 25\n",
       "  tn = 68\n",
       "  fp = 10\n",
       "  fn = 34\n"
      ]
     },
     "execution_count": 17,
     "metadata": {},
     "output_type": "execute_result"
    }
   ],
   "source": [
    "#Confusion Matrix\n",
    "#is a summary of predicting result on target variable\n",
    "confusion_matrix=MLBase.roc(prediction_df.y_actual,prediction_df.y_predicted)"
   ]
  },
  {
   "cell_type": "code",
   "execution_count": 18,
   "id": "b1862538",
   "metadata": {},
   "outputs": [
    {
     "data": {
      "text/plain": [
       "0.576271186440678"
      ]
     },
     "execution_count": 18,
     "metadata": {},
     "output_type": "execute_result"
    }
   ],
   "source": [
    "#False Negative Rate\n",
    "false_negative_rate(confusion_matrix)"
   ]
  },
  {
   "cell_type": "code",
   "execution_count": 19,
   "id": "2282067c",
   "metadata": {},
   "outputs": [
    {
     "data": {
      "text/plain": [
       "2-element Named Vector{Int64}\n",
       "Dim1  │ \n",
       "──────┼────\n",
       "false │ 310\n",
       "true  │ 240"
      ]
     },
     "execution_count": 19,
     "metadata": {},
     "output_type": "execute_result"
    }
   ],
   "source": [
    "classes\n"
   ]
  },
  {
   "cell_type": "code",
   "execution_count": 20,
   "id": "ea81dfe4",
   "metadata": {},
   "outputs": [
    {
     "data": {
      "text/plain": [
       "(960×4 typename(DataFrame)\n",
       "│ Row │ User_Rating │ Reviews │ Price   │ Year    │\n",
       "│     │ \u001b[90mFloat64\u001b[39m     │ \u001b[90mFloat64\u001b[39m │ \u001b[90mFloat64\u001b[39m │ \u001b[90mFloat64\u001b[39m │\n",
       "├─────┼─────────────┼─────────┼─────────┼─────────┤\n",
       "│ 1   │ 4.8         │ 14038.0 │ 4.0     │ 2016.0  │\n",
       "│ 2   │ 4.0         │ 5069.0  │ 17.0    │ 2011.0  │\n",
       "│ 3   │ 4.5         │ 1904.0  │ 23.0    │ 2012.0  │\n",
       "│ 4   │ 4.9         │ 7110.99 │ 10.2584 │ 2013.0  │\n",
       "│ 5   │ 4.8         │ 29673.0 │ 13.0    │ 2014.0  │\n",
       "│ 6   │ 4.8         │ 26234.0 │ 7.0     │ 2019.0  │\n",
       "│ 7   │ 4.3         │ 3319.0  │ 11.0    │ 2010.0  │\n",
       "│ 8   │ 4.6         │ 1204.0  │ 14.0    │ 2010.0  │\n",
       "│ 9   │ 4.5         │ 13964.0 │ 32.0    │ 2012.0  │\n",
       "│ 10  │ 4.5         │ 2525.0  │ 16.0    │ 2010.0  │\n",
       "⋮\n",
       "│ 950 │ 4.7         │ 7251.0  │ 16.0    │ 2009.0  │\n",
       "│ 951 │ 4.8         │ 2926.0  │ 27.0    │ 2009.0  │\n",
       "│ 952 │ 4.289       │ 11998.2 │ 13.0    │ 2013.0  │\n",
       "│ 953 │ 4.5         │ 26741.0 │ 8.0     │ 2010.22 │\n",
       "│ 954 │ 4.8         │ 6600.0  │ 11.0    │ 2014.0  │\n",
       "│ 955 │ 4.8         │ 23358.0 │ 12.0    │ 2015.0  │\n",
       "│ 956 │ 4.8         │ 13871.0 │ 6.0     │ 2009.0  │\n",
       "│ 957 │ 4.5         │ 22641.0 │ 11.0    │ 2016.0  │\n",
       "│ 958 │ 4.8         │ 3796.0  │ 12.0    │ 2010.0  │\n",
       "│ 959 │ 4.8         │ 26234.0 │ 0.0     │ 2015.0  │\n",
       "│ 960 │ 4.7         │ 4725.0  │ 16.0    │ 2016.0  │, Bool[1, 0, 0, 1, 0, 1, 0, 0, 1, 0  …  0, 1, 1, 1, 0, 1, 0, 1, 1, 0])"
      ]
     },
     "execution_count": 20,
     "metadata": {},
     "output_type": "execute_result"
    }
   ],
   "source": [
    "x2,y2=smote(specifics[!,[:User_Rating,:Reviews,:Price,:Year]],specifics.fiction,k=1,pct_under=200,pct_over=100)"
   ]
  },
  {
   "cell_type": "code",
   "execution_count": 21,
   "id": "a1b438de",
   "metadata": {},
   "outputs": [
    {
     "data": {
      "text/plain": [
       "2-element Named Vector{Int64}\n",
       "Dim1  │ \n",
       "──────┼────\n",
       "false │ 480\n",
       "true  │ 480"
      ]
     },
     "execution_count": 21,
     "metadata": {},
     "output_type": "execute_result"
    }
   ],
   "source": [
    "balanced_classes=freqtable(y2)"
   ]
  },
  {
   "cell_type": "code",
   "execution_count": 22,
   "id": "785e7259",
   "metadata": {},
   "outputs": [
    {
     "data": {
      "text/html": [
       "<table class=\"data-frame\"><thead><tr><th></th><th>User_Rating</th><th>Reviews</th><th>Price</th><th>Year</th><th>x1</th></tr><tr><th></th><th>Float64</th><th>Float64</th><th>Float64</th><th>Float64</th><th>Bool</th></tr></thead><tbody><p>960 rows × 5 columns</p><tr><th>1</th><td>4.8</td><td>14038.0</td><td>4.0</td><td>2016.0</td><td>1</td></tr><tr><th>2</th><td>4.0</td><td>5069.0</td><td>17.0</td><td>2011.0</td><td>0</td></tr><tr><th>3</th><td>4.5</td><td>1904.0</td><td>23.0</td><td>2012.0</td><td>0</td></tr><tr><th>4</th><td>4.9</td><td>7110.99</td><td>10.2584</td><td>2013.0</td><td>1</td></tr><tr><th>5</th><td>4.8</td><td>29673.0</td><td>13.0</td><td>2014.0</td><td>0</td></tr><tr><th>6</th><td>4.8</td><td>26234.0</td><td>7.0</td><td>2019.0</td><td>1</td></tr><tr><th>7</th><td>4.3</td><td>3319.0</td><td>11.0</td><td>2010.0</td><td>0</td></tr><tr><th>8</th><td>4.6</td><td>1204.0</td><td>14.0</td><td>2010.0</td><td>0</td></tr><tr><th>9</th><td>4.5</td><td>13964.0</td><td>32.0</td><td>2012.0</td><td>1</td></tr><tr><th>10</th><td>4.5</td><td>2525.0</td><td>16.0</td><td>2010.0</td><td>0</td></tr><tr><th>11</th><td>4.4</td><td>25624.0</td><td>14.0</td><td>2015.0</td><td>1</td></tr><tr><th>12</th><td>4.6</td><td>798.0</td><td>5.0</td><td>2009.0</td><td>0</td></tr><tr><th>13</th><td>4.8</td><td>1930.0</td><td>4.0</td><td>2009.0</td><td>0</td></tr><tr><th>14</th><td>4.6</td><td>10009.0</td><td>20.0</td><td>2012.0</td><td>0</td></tr><tr><th>15</th><td>4.8</td><td>16990.0</td><td>27.0</td><td>2017.61</td><td>1</td></tr><tr><th>16</th><td>4.6</td><td>5492.0</td><td>18.0</td><td>2017.0</td><td>0</td></tr><tr><th>17</th><td>4.68135</td><td>3145.18</td><td>0.0</td><td>2014.0</td><td>1</td></tr><tr><th>18</th><td>4.85821</td><td>8561.16</td><td>11.2537</td><td>2019.0</td><td>1</td></tr><tr><th>19</th><td>4.7</td><td>23308.0</td><td>6.0</td><td>2019.0</td><td>0</td></tr><tr><th>20</th><td>4.4</td><td>17044.0</td><td>18.0</td><td>2012.0</td><td>0</td></tr><tr><th>21</th><td>4.8</td><td>16990.0</td><td>27.0</td><td>2018.6</td><td>1</td></tr><tr><th>22</th><td>4.6</td><td>10721.0</td><td>8.0</td><td>2016.0</td><td>1</td></tr><tr><th>23</th><td>4.3</td><td>13176.7</td><td>15.1801</td><td>2012.56</td><td>1</td></tr><tr><th>24</th><td>4.7</td><td>10199.0</td><td>11.0</td><td>2017.0</td><td>0</td></tr><tr><th>25</th><td>4.7</td><td>50482.0</td><td>12.3886</td><td>2014.0</td><td>1</td></tr><tr><th>26</th><td>4.6</td><td>11098.0</td><td>13.0</td><td>2012.0</td><td>1</td></tr><tr><th>27</th><td>4.31458</td><td>7803.52</td><td>8.70848</td><td>2014.0</td><td>1</td></tr><tr><th>28</th><td>4.7</td><td>50482.0</td><td>13.0</td><td>2013.0</td><td>1</td></tr><tr><th>29</th><td>4.7</td><td>3503.0</td><td>9.0</td><td>2016.0</td><td>1</td></tr><tr><th>30</th><td>4.8</td><td>5347.0</td><td>16.0</td><td>2019.0</td><td>0</td></tr><tr><th>&vellip;</th><td>&vellip;</td><td>&vellip;</td><td>&vellip;</td><td>&vellip;</td><td>&vellip;</td></tr></tbody></table>"
      ],
      "text/latex": [
       "\\begin{tabular}{r|ccccc}\n",
       "\t& User\\_Rating & Reviews & Price & Year & x1\\\\\n",
       "\t\\hline\n",
       "\t& Float64 & Float64 & Float64 & Float64 & Bool\\\\\n",
       "\t\\hline\n",
       "\t1 & 4.8 & 14038.0 & 4.0 & 2016.0 & 1 \\\\\n",
       "\t2 & 4.0 & 5069.0 & 17.0 & 2011.0 & 0 \\\\\n",
       "\t3 & 4.5 & 1904.0 & 23.0 & 2012.0 & 0 \\\\\n",
       "\t4 & 4.9 & 7110.99 & 10.2584 & 2013.0 & 1 \\\\\n",
       "\t5 & 4.8 & 29673.0 & 13.0 & 2014.0 & 0 \\\\\n",
       "\t6 & 4.8 & 26234.0 & 7.0 & 2019.0 & 1 \\\\\n",
       "\t7 & 4.3 & 3319.0 & 11.0 & 2010.0 & 0 \\\\\n",
       "\t8 & 4.6 & 1204.0 & 14.0 & 2010.0 & 0 \\\\\n",
       "\t9 & 4.5 & 13964.0 & 32.0 & 2012.0 & 1 \\\\\n",
       "\t10 & 4.5 & 2525.0 & 16.0 & 2010.0 & 0 \\\\\n",
       "\t11 & 4.4 & 25624.0 & 14.0 & 2015.0 & 1 \\\\\n",
       "\t12 & 4.6 & 798.0 & 5.0 & 2009.0 & 0 \\\\\n",
       "\t13 & 4.8 & 1930.0 & 4.0 & 2009.0 & 0 \\\\\n",
       "\t14 & 4.6 & 10009.0 & 20.0 & 2012.0 & 0 \\\\\n",
       "\t15 & 4.8 & 16990.0 & 27.0 & 2017.61 & 1 \\\\\n",
       "\t16 & 4.6 & 5492.0 & 18.0 & 2017.0 & 0 \\\\\n",
       "\t17 & 4.68135 & 3145.18 & 0.0 & 2014.0 & 1 \\\\\n",
       "\t18 & 4.85821 & 8561.16 & 11.2537 & 2019.0 & 1 \\\\\n",
       "\t19 & 4.7 & 23308.0 & 6.0 & 2019.0 & 0 \\\\\n",
       "\t20 & 4.4 & 17044.0 & 18.0 & 2012.0 & 0 \\\\\n",
       "\t21 & 4.8 & 16990.0 & 27.0 & 2018.6 & 1 \\\\\n",
       "\t22 & 4.6 & 10721.0 & 8.0 & 2016.0 & 1 \\\\\n",
       "\t23 & 4.3 & 13176.7 & 15.1801 & 2012.56 & 1 \\\\\n",
       "\t24 & 4.7 & 10199.0 & 11.0 & 2017.0 & 0 \\\\\n",
       "\t25 & 4.7 & 50482.0 & 12.3886 & 2014.0 & 1 \\\\\n",
       "\t26 & 4.6 & 11098.0 & 13.0 & 2012.0 & 1 \\\\\n",
       "\t27 & 4.31458 & 7803.52 & 8.70848 & 2014.0 & 1 \\\\\n",
       "\t28 & 4.7 & 50482.0 & 13.0 & 2013.0 & 1 \\\\\n",
       "\t29 & 4.7 & 3503.0 & 9.0 & 2016.0 & 1 \\\\\n",
       "\t30 & 4.8 & 5347.0 & 16.0 & 2019.0 & 0 \\\\\n",
       "\t$\\dots$ & $\\dots$ & $\\dots$ & $\\dots$ & $\\dots$ & $\\dots$ \\\\\n",
       "\\end{tabular}\n"
      ],
      "text/plain": [
       "960×5 typename(DataFrame)\n",
       "│ Row │ User_Rating │ Reviews │ Price   │ Year    │ x1   │\n",
       "│     │ \u001b[90mFloat64\u001b[39m     │ \u001b[90mFloat64\u001b[39m │ \u001b[90mFloat64\u001b[39m │ \u001b[90mFloat64\u001b[39m │ \u001b[90mBool\u001b[39m │\n",
       "├─────┼─────────────┼─────────┼─────────┼─────────┼──────┤\n",
       "│ 1   │ 4.8         │ 14038.0 │ 4.0     │ 2016.0  │ 1    │\n",
       "│ 2   │ 4.0         │ 5069.0  │ 17.0    │ 2011.0  │ 0    │\n",
       "│ 3   │ 4.5         │ 1904.0  │ 23.0    │ 2012.0  │ 0    │\n",
       "│ 4   │ 4.9         │ 7110.99 │ 10.2584 │ 2013.0  │ 1    │\n",
       "│ 5   │ 4.8         │ 29673.0 │ 13.0    │ 2014.0  │ 0    │\n",
       "│ 6   │ 4.8         │ 26234.0 │ 7.0     │ 2019.0  │ 1    │\n",
       "│ 7   │ 4.3         │ 3319.0  │ 11.0    │ 2010.0  │ 0    │\n",
       "│ 8   │ 4.6         │ 1204.0  │ 14.0    │ 2010.0  │ 0    │\n",
       "│ 9   │ 4.5         │ 13964.0 │ 32.0    │ 2012.0  │ 1    │\n",
       "│ 10  │ 4.5         │ 2525.0  │ 16.0    │ 2010.0  │ 0    │\n",
       "⋮\n",
       "│ 950 │ 4.7         │ 7251.0  │ 16.0    │ 2009.0  │ 1    │\n",
       "│ 951 │ 4.8         │ 2926.0  │ 27.0    │ 2009.0  │ 0    │\n",
       "│ 952 │ 4.289       │ 11998.2 │ 13.0    │ 2013.0  │ 1    │\n",
       "│ 953 │ 4.5         │ 26741.0 │ 8.0     │ 2010.22 │ 1    │\n",
       "│ 954 │ 4.8         │ 6600.0  │ 11.0    │ 2014.0  │ 1    │\n",
       "│ 955 │ 4.8         │ 23358.0 │ 12.0    │ 2015.0  │ 0    │\n",
       "│ 956 │ 4.8         │ 13871.0 │ 6.0     │ 2009.0  │ 1    │\n",
       "│ 957 │ 4.5         │ 22641.0 │ 11.0    │ 2016.0  │ 0    │\n",
       "│ 958 │ 4.8         │ 3796.0  │ 12.0    │ 2010.0  │ 1    │\n",
       "│ 959 │ 4.8         │ 26234.0 │ 0.0     │ 2015.0  │ 1    │\n",
       "│ 960 │ 4.7         │ 4725.0  │ 16.0    │ 2016.0  │ 0    │"
      ]
     },
     "execution_count": 22,
     "metadata": {},
     "output_type": "execute_result"
    }
   ],
   "source": [
    "specifics_new=hcat(x2,y2)"
   ]
  },
  {
   "cell_type": "code",
   "execution_count": 23,
   "id": "574a9dfb",
   "metadata": {},
   "outputs": [
    {
     "data": {
      "text/html": [
       "<table class=\"data-frame\"><thead><tr><th></th><th>User_Rating</th><th>Reviews</th><th>Price</th><th>Year</th><th>target</th></tr><tr><th></th><th>Float64</th><th>Float64</th><th>Float64</th><th>Float64</th><th>Bool</th></tr></thead><tbody><p>960 rows × 5 columns</p><tr><th>1</th><td>4.8</td><td>14038.0</td><td>4.0</td><td>2016.0</td><td>1</td></tr><tr><th>2</th><td>4.0</td><td>5069.0</td><td>17.0</td><td>2011.0</td><td>0</td></tr><tr><th>3</th><td>4.5</td><td>1904.0</td><td>23.0</td><td>2012.0</td><td>0</td></tr><tr><th>4</th><td>4.9</td><td>7110.99</td><td>10.2584</td><td>2013.0</td><td>1</td></tr><tr><th>5</th><td>4.8</td><td>29673.0</td><td>13.0</td><td>2014.0</td><td>0</td></tr><tr><th>6</th><td>4.8</td><td>26234.0</td><td>7.0</td><td>2019.0</td><td>1</td></tr><tr><th>7</th><td>4.3</td><td>3319.0</td><td>11.0</td><td>2010.0</td><td>0</td></tr><tr><th>8</th><td>4.6</td><td>1204.0</td><td>14.0</td><td>2010.0</td><td>0</td></tr><tr><th>9</th><td>4.5</td><td>13964.0</td><td>32.0</td><td>2012.0</td><td>1</td></tr><tr><th>10</th><td>4.5</td><td>2525.0</td><td>16.0</td><td>2010.0</td><td>0</td></tr><tr><th>11</th><td>4.4</td><td>25624.0</td><td>14.0</td><td>2015.0</td><td>1</td></tr><tr><th>12</th><td>4.6</td><td>798.0</td><td>5.0</td><td>2009.0</td><td>0</td></tr><tr><th>13</th><td>4.8</td><td>1930.0</td><td>4.0</td><td>2009.0</td><td>0</td></tr><tr><th>14</th><td>4.6</td><td>10009.0</td><td>20.0</td><td>2012.0</td><td>0</td></tr><tr><th>15</th><td>4.8</td><td>16990.0</td><td>27.0</td><td>2017.61</td><td>1</td></tr><tr><th>16</th><td>4.6</td><td>5492.0</td><td>18.0</td><td>2017.0</td><td>0</td></tr><tr><th>17</th><td>4.68135</td><td>3145.18</td><td>0.0</td><td>2014.0</td><td>1</td></tr><tr><th>18</th><td>4.85821</td><td>8561.16</td><td>11.2537</td><td>2019.0</td><td>1</td></tr><tr><th>19</th><td>4.7</td><td>23308.0</td><td>6.0</td><td>2019.0</td><td>0</td></tr><tr><th>20</th><td>4.4</td><td>17044.0</td><td>18.0</td><td>2012.0</td><td>0</td></tr><tr><th>21</th><td>4.8</td><td>16990.0</td><td>27.0</td><td>2018.6</td><td>1</td></tr><tr><th>22</th><td>4.6</td><td>10721.0</td><td>8.0</td><td>2016.0</td><td>1</td></tr><tr><th>23</th><td>4.3</td><td>13176.7</td><td>15.1801</td><td>2012.56</td><td>1</td></tr><tr><th>24</th><td>4.7</td><td>10199.0</td><td>11.0</td><td>2017.0</td><td>0</td></tr><tr><th>25</th><td>4.7</td><td>50482.0</td><td>12.3886</td><td>2014.0</td><td>1</td></tr><tr><th>26</th><td>4.6</td><td>11098.0</td><td>13.0</td><td>2012.0</td><td>1</td></tr><tr><th>27</th><td>4.31458</td><td>7803.52</td><td>8.70848</td><td>2014.0</td><td>1</td></tr><tr><th>28</th><td>4.7</td><td>50482.0</td><td>13.0</td><td>2013.0</td><td>1</td></tr><tr><th>29</th><td>4.7</td><td>3503.0</td><td>9.0</td><td>2016.0</td><td>1</td></tr><tr><th>30</th><td>4.8</td><td>5347.0</td><td>16.0</td><td>2019.0</td><td>0</td></tr><tr><th>&vellip;</th><td>&vellip;</td><td>&vellip;</td><td>&vellip;</td><td>&vellip;</td><td>&vellip;</td></tr></tbody></table>"
      ],
      "text/latex": [
       "\\begin{tabular}{r|ccccc}\n",
       "\t& User\\_Rating & Reviews & Price & Year & target\\\\\n",
       "\t\\hline\n",
       "\t& Float64 & Float64 & Float64 & Float64 & Bool\\\\\n",
       "\t\\hline\n",
       "\t1 & 4.8 & 14038.0 & 4.0 & 2016.0 & 1 \\\\\n",
       "\t2 & 4.0 & 5069.0 & 17.0 & 2011.0 & 0 \\\\\n",
       "\t3 & 4.5 & 1904.0 & 23.0 & 2012.0 & 0 \\\\\n",
       "\t4 & 4.9 & 7110.99 & 10.2584 & 2013.0 & 1 \\\\\n",
       "\t5 & 4.8 & 29673.0 & 13.0 & 2014.0 & 0 \\\\\n",
       "\t6 & 4.8 & 26234.0 & 7.0 & 2019.0 & 1 \\\\\n",
       "\t7 & 4.3 & 3319.0 & 11.0 & 2010.0 & 0 \\\\\n",
       "\t8 & 4.6 & 1204.0 & 14.0 & 2010.0 & 0 \\\\\n",
       "\t9 & 4.5 & 13964.0 & 32.0 & 2012.0 & 1 \\\\\n",
       "\t10 & 4.5 & 2525.0 & 16.0 & 2010.0 & 0 \\\\\n",
       "\t11 & 4.4 & 25624.0 & 14.0 & 2015.0 & 1 \\\\\n",
       "\t12 & 4.6 & 798.0 & 5.0 & 2009.0 & 0 \\\\\n",
       "\t13 & 4.8 & 1930.0 & 4.0 & 2009.0 & 0 \\\\\n",
       "\t14 & 4.6 & 10009.0 & 20.0 & 2012.0 & 0 \\\\\n",
       "\t15 & 4.8 & 16990.0 & 27.0 & 2017.61 & 1 \\\\\n",
       "\t16 & 4.6 & 5492.0 & 18.0 & 2017.0 & 0 \\\\\n",
       "\t17 & 4.68135 & 3145.18 & 0.0 & 2014.0 & 1 \\\\\n",
       "\t18 & 4.85821 & 8561.16 & 11.2537 & 2019.0 & 1 \\\\\n",
       "\t19 & 4.7 & 23308.0 & 6.0 & 2019.0 & 0 \\\\\n",
       "\t20 & 4.4 & 17044.0 & 18.0 & 2012.0 & 0 \\\\\n",
       "\t21 & 4.8 & 16990.0 & 27.0 & 2018.6 & 1 \\\\\n",
       "\t22 & 4.6 & 10721.0 & 8.0 & 2016.0 & 1 \\\\\n",
       "\t23 & 4.3 & 13176.7 & 15.1801 & 2012.56 & 1 \\\\\n",
       "\t24 & 4.7 & 10199.0 & 11.0 & 2017.0 & 0 \\\\\n",
       "\t25 & 4.7 & 50482.0 & 12.3886 & 2014.0 & 1 \\\\\n",
       "\t26 & 4.6 & 11098.0 & 13.0 & 2012.0 & 1 \\\\\n",
       "\t27 & 4.31458 & 7803.52 & 8.70848 & 2014.0 & 1 \\\\\n",
       "\t28 & 4.7 & 50482.0 & 13.0 & 2013.0 & 1 \\\\\n",
       "\t29 & 4.7 & 3503.0 & 9.0 & 2016.0 & 1 \\\\\n",
       "\t30 & 4.8 & 5347.0 & 16.0 & 2019.0 & 0 \\\\\n",
       "\t$\\dots$ & $\\dots$ & $\\dots$ & $\\dots$ & $\\dots$ & $\\dots$ \\\\\n",
       "\\end{tabular}\n"
      ],
      "text/plain": [
       "960×5 typename(DataFrame)\n",
       "│ Row │ User_Rating │ Reviews │ Price   │ Year    │ target │\n",
       "│     │ \u001b[90mFloat64\u001b[39m     │ \u001b[90mFloat64\u001b[39m │ \u001b[90mFloat64\u001b[39m │ \u001b[90mFloat64\u001b[39m │ \u001b[90mBool\u001b[39m   │\n",
       "├─────┼─────────────┼─────────┼─────────┼─────────┼────────┤\n",
       "│ 1   │ 4.8         │ 14038.0 │ 4.0     │ 2016.0  │ 1      │\n",
       "│ 2   │ 4.0         │ 5069.0  │ 17.0    │ 2011.0  │ 0      │\n",
       "│ 3   │ 4.5         │ 1904.0  │ 23.0    │ 2012.0  │ 0      │\n",
       "│ 4   │ 4.9         │ 7110.99 │ 10.2584 │ 2013.0  │ 1      │\n",
       "│ 5   │ 4.8         │ 29673.0 │ 13.0    │ 2014.0  │ 0      │\n",
       "│ 6   │ 4.8         │ 26234.0 │ 7.0     │ 2019.0  │ 1      │\n",
       "│ 7   │ 4.3         │ 3319.0  │ 11.0    │ 2010.0  │ 0      │\n",
       "│ 8   │ 4.6         │ 1204.0  │ 14.0    │ 2010.0  │ 0      │\n",
       "│ 9   │ 4.5         │ 13964.0 │ 32.0    │ 2012.0  │ 1      │\n",
       "│ 10  │ 4.5         │ 2525.0  │ 16.0    │ 2010.0  │ 0      │\n",
       "⋮\n",
       "│ 950 │ 4.7         │ 7251.0  │ 16.0    │ 2009.0  │ 1      │\n",
       "│ 951 │ 4.8         │ 2926.0  │ 27.0    │ 2009.0  │ 0      │\n",
       "│ 952 │ 4.289       │ 11998.2 │ 13.0    │ 2013.0  │ 1      │\n",
       "│ 953 │ 4.5         │ 26741.0 │ 8.0     │ 2010.22 │ 1      │\n",
       "│ 954 │ 4.8         │ 6600.0  │ 11.0    │ 2014.0  │ 1      │\n",
       "│ 955 │ 4.8         │ 23358.0 │ 12.0    │ 2015.0  │ 0      │\n",
       "│ 956 │ 4.8         │ 13871.0 │ 6.0     │ 2009.0  │ 1      │\n",
       "│ 957 │ 4.5         │ 22641.0 │ 11.0    │ 2016.0  │ 0      │\n",
       "│ 958 │ 4.8         │ 3796.0  │ 12.0    │ 2010.0  │ 1      │\n",
       "│ 959 │ 4.8         │ 26234.0 │ 0.0     │ 2015.0  │ 1      │\n",
       "│ 960 │ 4.7         │ 4725.0  │ 16.0    │ 2016.0  │ 0      │"
      ]
     },
     "execution_count": 23,
     "metadata": {},
     "output_type": "execute_result"
    }
   ],
   "source": [
    "rename!(specifics_new,:x1=>:target)"
   ]
  },
  {
   "cell_type": "code",
   "execution_count": 24,
   "id": "f7a74903",
   "metadata": {},
   "outputs": [],
   "source": [
    "#Build New Model"
   ]
  },
  {
   "cell_type": "code",
   "execution_count": null,
   "id": "39b8b64a",
   "metadata": {},
   "outputs": [],
   "source": []
  },
  {
   "cell_type": "code",
   "execution_count": 25,
   "id": "252cf966",
   "metadata": {},
   "outputs": [
    {
     "data": {
      "text/plain": [
       "StatsModels.TableRegressionModel{GeneralizedLinearModel{GLM.GlmResp{Vector{Float64}, Binomial{Float64}, LogitLink}, GLM.DensePredChol{Float64, LinearAlgebra.Cholesky{Float64, Matrix{Float64}}}}, Matrix{Float64}}\n",
       "\n",
       "target ~ 1 + User_Rating + Reviews + Price + Year\n",
       "\n",
       "Coefficients:\n",
       "──────────────────────────────────────────────────────────────────────────────────\n",
       "                    Coef.   Std. Error      z  Pr(>|z|)     Lower 95%    Upper 95%\n",
       "──────────────────────────────────────────────────────────────────────────────────\n",
       "(Intercept)  260.351       49.0665       5.31    <1e-06  164.183       356.52\n",
       "User_Rating    1.76409      0.349242     5.05    <1e-06    1.07958       2.44859\n",
       "Reviews        7.20398e-5   8.48189e-6   8.49    <1e-16    5.54156e-5    8.8664e-5\n",
       "Price         -0.0556095    0.00914321  -6.08    <1e-08   -0.0735298    -0.0376891\n",
       "Year          -0.133381     0.0245773   -5.43    <1e-07   -0.181552     -0.0852102\n",
       "──────────────────────────────────────────────────────────────────────────────────"
      ]
     },
     "execution_count": 25,
     "metadata": {},
     "output_type": "execute_result"
    }
   ],
   "source": [
    "#Obtain New Predictions\n",
    "fm1=@formula(target~User_Rating+Reviews+Price+Year)\n",
    "logit1=glm(fm1,specifics_new,Binomial(),LogitLink())"
   ]
  },
  {
   "cell_type": "code",
   "execution_count": 26,
   "id": "e04e85aa",
   "metadata": {},
   "outputs": [],
   "source": [
    "prediction1=predict(logit1,test);"
   ]
  },
  {
   "cell_type": "code",
   "execution_count": 27,
   "id": "85ea2831",
   "metadata": {},
   "outputs": [],
   "source": [
    "prediction_class1= [if x<0.5 0 else 1 end for x in prediction1];"
   ]
  },
  {
   "cell_type": "code",
   "execution_count": 28,
   "id": "8c103e86",
   "metadata": {},
   "outputs": [],
   "source": [
    "prediction_new=DataFrame(y_actual1=test.fiction,y_predicted1=prediction_class1,prob_predicted1=prediction1);"
   ]
  },
  {
   "cell_type": "code",
   "execution_count": 29,
   "id": "9bf20b24",
   "metadata": {},
   "outputs": [],
   "source": [
    "prediction_new.correctly_classified1=prediction_new.y_actual1 .==prediction_new.y_predicted1;"
   ]
  },
  {
   "cell_type": "code",
   "execution_count": 30,
   "id": "734d66a4",
   "metadata": {},
   "outputs": [
    {
     "data": {
      "text/plain": [
       "0.6861313868613139"
      ]
     },
     "execution_count": 30,
     "metadata": {},
     "output_type": "execute_result"
    }
   ],
   "source": [
    "#Accuracy\n",
    "accuracy_final=mean(prediction_new.correctly_classified1)"
   ]
  },
  {
   "cell_type": "code",
   "execution_count": 31,
   "id": "15aacdcd",
   "metadata": {},
   "outputs": [
    {
     "data": {
      "text/plain": [
       "ROCNums{Int64}\n",
       "  p = 59\n",
       "  n = 78\n",
       "  tp = 38\n",
       "  tn = 56\n",
       "  fp = 22\n",
       "  fn = 21\n"
      ]
     },
     "execution_count": 31,
     "metadata": {},
     "output_type": "execute_result"
    }
   ],
   "source": [
    "#Confusion Matrix¶\n",
    "confusion_matrix_final=MLBase.roc(prediction_new.y_actual1,prediction_new.y_predicted1)"
   ]
  },
  {
   "cell_type": "code",
   "execution_count": 32,
   "id": "0fb30dfd",
   "metadata": {},
   "outputs": [
    {
     "data": {
      "text/plain": [
       "ROCNums{Int64}\n",
       "  p = 59\n",
       "  n = 78\n",
       "  tp = 25\n",
       "  tn = 68\n",
       "  fp = 10\n",
       "  fn = 34\n"
      ]
     },
     "execution_count": 32,
     "metadata": {},
     "output_type": "execute_result"
    }
   ],
   "source": [
    "confusion_matrix"
   ]
  },
  {
   "cell_type": "code",
   "execution_count": 33,
   "id": "7140dbef",
   "metadata": {},
   "outputs": [
    {
     "data": {
      "text/plain": [
       "0.3559322033898305"
      ]
     },
     "execution_count": 33,
     "metadata": {},
     "output_type": "execute_result"
    }
   ],
   "source": [
    "#False Negative Rate\n",
    "false_negative_rate(confusion_matrix_final)"
   ]
  },
  {
   "cell_type": "code",
   "execution_count": 34,
   "id": "0a809151",
   "metadata": {},
   "outputs": [
    {
     "data": {
      "text/plain": [
       "0.576271186440678"
      ]
     },
     "execution_count": 34,
     "metadata": {},
     "output_type": "execute_result"
    }
   ],
   "source": [
    "false_negative_rate(confusion_matrix)"
   ]
  },
  {
   "cell_type": "code",
   "execution_count": null,
   "id": "5cfe33f2",
   "metadata": {},
   "outputs": [],
   "source": []
  }
 ],
 "metadata": {
  "kernelspec": {
   "display_name": "Julia 1.6.2",
   "language": "julia",
   "name": "julia-1.6"
  },
  "language_info": {
   "file_extension": ".jl",
   "mimetype": "application/julia",
   "name": "julia",
   "version": "1.6.2"
  }
 },
 "nbformat": 4,
 "nbformat_minor": 5
}
